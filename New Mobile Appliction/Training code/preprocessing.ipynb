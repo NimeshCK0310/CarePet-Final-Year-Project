{
 "cells": [
  {
   "cell_type": "code",
   "execution_count": 1,
   "metadata": {},
   "outputs": [
    {
     "name": "stdout",
     "output_type": "stream",
     "text": [
      "Image resizing complete.\n"
     ]
    }
   ],
   "source": [
    "from PIL import Image\n",
    "import os\n",
    "\n",
    "# Specify the input and output folders\n",
    "input_folder = \"C:/Users/ACER/Desktop/input\"\n",
    "output_folder = \"C:/Users/ACER/Desktop/output\"\n",
    "\n",
    "# Create the output folder if it doesn't exist\n",
    "os.makedirs(output_folder, exist_ok=True)\n",
    "\n",
    "# Define the new size (width, height)\n",
    "new_size = (256, 182)\n",
    "\n",
    "# Iterate through each file in the input folder\n",
    "for filename in os.listdir(input_folder):\n",
    "    if filename.endswith(\".jpg\") or filename.endswith(\".png\"):  # Adjust file extensions as needed\n",
    "        # Open the image file\n",
    "        input_path = os.path.join(input_folder, filename)\n",
    "        original_image = Image.open(input_path)\n",
    "\n",
    "        # Resize the image\n",
    "        resized_image = original_image.resize(new_size)\n",
    "\n",
    "        # Save the resized image to the output folder\n",
    "        output_path = os.path.join(output_folder, filename)\n",
    "        resized_image.save(output_path)\n",
    "\n",
    "print(\"Image resizing complete.\")\n"
   ]
  },
  {
   "cell_type": "markdown",
   "metadata": {},
   "source": [
    "CONVERT TO GRAYSCALE"
   ]
  },
  {
   "cell_type": "code",
   "execution_count": 8,
   "metadata": {},
   "outputs": [
    {
     "name": "stdout",
     "output_type": "stream",
     "text": [
      "Image conversion to grayscale complete.\n"
     ]
    }
   ],
   "source": [
    "from PIL import Image\n",
    "import os\n",
    "\n",
    "# Specify the input and output folders\n",
    "input_folder = \"D:\\PROJECTS/test/data/test/ab\"\n",
    "output_folder = \"D:\\PROJECTS/test/data/test/ab2\"\n",
    "\n",
    "# Create the output folder if it doesn't exist\n",
    "os.makedirs(output_folder, exist_ok=True)\n",
    "\n",
    "# Iterate through each file in the input folder\n",
    "for filename in os.listdir(input_folder):\n",
    "    if filename.endswith(\".jpg\") or filename.endswith(\".png\"):  # Adjust file extensions as needed\n",
    "        # Open the image file\n",
    "        input_path = os.path.join(input_folder, filename)\n",
    "        original_image = Image.open(input_path)\n",
    "\n",
    "        # Convert the image to grayscale\n",
    "        grayscale_image = original_image.convert(\"L\")\n",
    "\n",
    "        # Save the grayscale image to the output folder\n",
    "        output_path = os.path.join(output_folder, filename)\n",
    "        grayscale_image.save(output_path)\n",
    "\n",
    "print(\"Image conversion to grayscale complete.\")\n"
   ]
  }
 ],
 "metadata": {
  "kernelspec": {
   "display_name": "Python 3",
   "language": "python",
   "name": "python3"
  },
  "language_info": {
   "codemirror_mode": {
    "name": "ipython",
    "version": 3
   },
   "file_extension": ".py",
   "mimetype": "text/x-python",
   "name": "python",
   "nbconvert_exporter": "python",
   "pygments_lexer": "ipython3",
   "version": "3.11.4"
  }
 },
 "nbformat": 4,
 "nbformat_minor": 2
}
