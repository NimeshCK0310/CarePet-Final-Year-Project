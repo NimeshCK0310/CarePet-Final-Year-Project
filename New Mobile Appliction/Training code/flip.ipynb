{
 "cells": [
  {
   "cell_type": "code",
   "execution_count": 6,
   "metadata": {},
   "outputs": [
    {
     "name": "stdout",
     "output_type": "stream",
     "text": [
      "Image flipping complete.\n"
     ]
    }
   ],
   "source": [
    "import os\n",
    "import cv2\n",
    "\n",
    "# Input and output directories\n",
    "input_dir = \"C:/Users/Nimesh/Desktop/Training code/input\"\n",
    "output_dir = \"C:/Users/Nimesh/Desktop/Training code/output\"\n",
    "\n",
    "# Create output directory if it doesn't exist\n",
    "os.makedirs(output_dir, exist_ok=True)\n",
    "\n",
    "# Process each image in the input directory\n",
    "for image_file in os.listdir(input_dir):\n",
    "    if image_file.endswith(\".jpg\") or image_file.endswith(\".png\"):  # Adjust file extensions as needed\n",
    "        # Input and output image paths\n",
    "        input_image_path = os.path.join(input_dir, image_file)\n",
    "        output_image_path = os.path.join(output_dir, image_file)\n",
    "        \n",
    "        # Load the image\n",
    "        image = cv2.imread(input_image_path)\n",
    "        \n",
    "        # Flip the image horizontally\n",
    "        flipped_image = cv2.flip(image, 1)\n",
    "        \n",
    "        # Save the flipped image\n",
    "        cv2.imwrite(output_image_path, flipped_image)\n",
    "\n",
    "print(\"Image flipping complete.\")\n"
   ]
  }
 ],
 "metadata": {
  "kernelspec": {
   "display_name": "Python 3",
   "language": "python",
   "name": "python3"
  },
  "language_info": {
   "codemirror_mode": {
    "name": "ipython",
    "version": 3
   },
   "file_extension": ".py",
   "mimetype": "text/x-python",
   "name": "python",
   "nbconvert_exporter": "python",
   "pygments_lexer": "ipython3",
   "version": "3.10.11"
  }
 },
 "nbformat": 4,
 "nbformat_minor": 2
}
