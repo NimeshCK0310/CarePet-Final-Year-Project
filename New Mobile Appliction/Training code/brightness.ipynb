{
 "cells": [
  {
   "cell_type": "code",
   "execution_count": 13,
   "metadata": {},
   "outputs": [
    {
     "name": "stdout",
     "output_type": "stream",
     "text": [
      "Brightness augmentation complete.\n"
     ]
    }
   ],
   "source": [
    "import os\n",
    "import cv2\n",
    "import numpy as np\n",
    "\n",
    "# Function to perform brightness augmentation on an image and save the augmented image\n",
    "def augment_brightness(image_path, output_dir, brightness_factor):\n",
    "    # Load the image\n",
    "    image = cv2.imread(image_path)\n",
    "    \n",
    "    # Apply brightness augmentation\n",
    "    augmented_image = np.clip(image * brightness_factor, 0, 255).astype(np.uint8)\n",
    "    \n",
    "    # Get the file name of the original image\n",
    "    file_name = os.path.basename(image_path)\n",
    "    \n",
    "    # Construct the path to save the augmented image\n",
    "    output_path = os.path.join(output_dir, file_name)\n",
    "    \n",
    "    # Save the augmented image\n",
    "    cv2.imwrite(output_path, augmented_image)\n",
    "\n",
    "# Input and output directories\n",
    "input_dir = \"C:/Users/Nimesh/Desktop/Training code/input\"\n",
    "output_dir = \"C:/Users/Nimesh/Desktop/Training code/output\"\n",
    "\n",
    "# Create output directory if it doesn't exist\n",
    "os.makedirs(output_dir, exist_ok=True)\n",
    "\n",
    "# Brightness augmentation factor (adjust as needed)\n",
    "brightness_factor = 0.7  # Increase brightness by 50%\n",
    "\n",
    "# Process each image in the input directory\n",
    "for image_file in os.listdir(input_dir):\n",
    "    if image_file.endswith(\".jpg\") or image_file.endswith(\".png\"):  # Adjust file extensions as needed\n",
    "        # Input image path\n",
    "        image_path = os.path.join(input_dir, image_file)\n",
    "        \n",
    "        # Perform brightness augmentation and save the augmented image\n",
    "        augment_brightness(image_path, output_dir, brightness_factor)\n",
    "\n",
    "print(\"Brightness augmentation complete.\")\n"
   ]
  }
 ],
 "metadata": {
  "kernelspec": {
   "display_name": "Python 3",
   "language": "python",
   "name": "python3"
  },
  "language_info": {
   "codemirror_mode": {
    "name": "ipython",
    "version": 3
   },
   "file_extension": ".py",
   "mimetype": "text/x-python",
   "name": "python",
   "nbconvert_exporter": "python",
   "pygments_lexer": "ipython3",
   "version": "3.10.11"
  }
 },
 "nbformat": 4,
 "nbformat_minor": 2
}
